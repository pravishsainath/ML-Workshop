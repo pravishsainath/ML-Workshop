{
  "nbformat": 4,
  "nbformat_minor": 0,
  "metadata": {
    "colab": {
      "name": "AIC_Linear_Regression.ipynb",
      "version": "0.3.2",
      "provenance": [],
      "collapsed_sections": []
    },
    "kernelspec": {
      "display_name": "Python 2",
      "language": "python",
      "name": "python2"
    }
  },
  "cells": [
    {
      "metadata": {
        "id": "9O42zfX8_eHg",
        "colab_type": "text"
      },
      "cell_type": "markdown",
      "source": [
        "# <div align=\"center\">  Artificial Intelligence Concordia Workshop <br /> </div>\n",
        "## <div align=\"center\"> Linear Regression</div>\n",
        "\n",
        "<div align=\"center\">\n",
        "  <img src=\"https://github.com/olibel270/Workshop1JupyterNote/blob/master/images/AICLogo.jpg?raw=1\" style=\"width: 300px\" /></div>\n",
        "\n",
        "---------------------------------------------------------------------\n",
        "\n",
        "<div align=\"right\">\n",
        "  Follow us on:<br />\n",
        "[ Facebook](https://www.facebook.com/AISConU/)<br />\n",
        "[Our Website](https://www.aisconcordia.com)<br />\n",
        "  </div>\n",
        " \n"
      ]
    },
    {
      "metadata": {
        "colab_type": "text",
        "id": "4ZrDhJo-_46-"
      },
      "cell_type": "markdown",
      "source": [
        "![linear regression model](https://www.cs.toronto.edu/~frossard/post/linear_regression/lreg.jpg)"
      ]
    },
    {
      "metadata": {
        "id": "-KbTwUC8AD-Z",
        "colab_type": "text"
      },
      "cell_type": "markdown",
      "source": [
        "### Imports"
      ]
    },
    {
      "metadata": {
        "id": "PWMJIoaGmA4z",
        "colab_type": "code",
        "colab": {}
      },
      "cell_type": "code",
      "source": [
        "import numpy as np\n",
        "import matplotlib.pyplot as plt"
      ],
      "execution_count": 0,
      "outputs": []
    },
    {
      "metadata": {
        "id": "4d30vbbfALnE",
        "colab_type": "text"
      },
      "cell_type": "markdown",
      "source": [
        "### Data Generation"
      ]
    },
    {
      "metadata": {
        "scrolled": false,
        "id": "kwUMHiM2mA46",
        "colab_type": "code",
        "colab": {}
      },
      "cell_type": "code",
      "source": [
        "X = np.linspace(1.0, 10.0, 100)[:, np.newaxis]\n",
        "Y = np.sin(X) + 0.1 * np.power(X, 2) + 0.5 * np.random.randn(100, 1)\n",
        "X /= np.max(X)"
      ],
      "execution_count": 0,
      "outputs": []
    },
    {
      "metadata": {
        "id": "dEUrxxRuAP-Z",
        "colab_type": "text"
      },
      "cell_type": "markdown",
      "source": [
        "### Preprocess Data\n",
        "Add a column of ones for intercept"
      ]
    },
    {
      "metadata": {
        "scrolled": true,
        "id": "bY76tDaqmA4-",
        "colab_type": "code",
        "colab": {}
      },
      "cell_type": "code",
      "source": [
        "X = np.hstack((np.ones_like(X), X))"
      ],
      "execution_count": 0,
      "outputs": []
    },
    {
      "metadata": {
        "colab_type": "text",
        "id": "U26ylGvxAbgh"
      },
      "cell_type": "markdown",
      "source": [
        "### Shuffle and Split into train and test data"
      ]
    },
    {
      "metadata": {
        "id": "8b-Ypir7mA5D",
        "colab_type": "code",
        "colab": {}
      },
      "cell_type": "code",
      "source": [
        "ordering = np.random.permutation(len(X))\n",
        "split_index = 20\n",
        "X_test = X[ordering[:split_index]]\n",
        "Y_test = Y[ordering[:split_index]]\n",
        "X_train = X[ordering[split_index:]]\n",
        "Y_train = Y[ordering[split_index:]]"
      ],
      "execution_count": 0,
      "outputs": []
    },
    {
      "metadata": {
        "id": "ZId_7nqYAh8k",
        "colab_type": "text"
      },
      "cell_type": "markdown",
      "source": [
        "### Cost Function"
      ]
    },
    {
      "metadata": {
        "id": "eHJ436EpA6Qi",
        "colab_type": "text"
      },
      "cell_type": "markdown",
      "source": [
        "\n",
        "$$\\mathcal{L}(y,\\hat{y}) = \\dfrac{1}{M} \\sum_{i=1}^{M} (\\hat{y}_i-y_i)^2$$\n"
      ]
    },
    {
      "metadata": {
        "id": "SgPDuV8XnM3F",
        "colab_type": "code",
        "colab": {}
      },
      "cell_type": "code",
      "source": [
        "def cost_function(w, x, y):\n",
        "    y_estimate = x.dot(w).flatten()\n",
        "    error = (y.flatten() - y_estimate)\n",
        "    mse = (1.0/len(x))*np.sum(np.power(error, 2))\n",
        "    return mse"
      ],
      "execution_count": 0,
      "outputs": []
    },
    {
      "metadata": {
        "id": "X6d3B_ThmA5M",
        "colab_type": "code",
        "colab": {}
      },
      "cell_type": "code",
      "source": [
        "def get_gradient(w, x, y):\n",
        "    y_estimate = x.dot(w).flatten()\n",
        "    error = (y.flatten() - y_estimate)\n",
        "    mse = (1.0/len(x))*np.sum(np.power(error, 2))\n",
        "    gradient = -(1.0/len(x)) * error.dot(x)\n",
        "    return gradient"
      ],
      "execution_count": 0,
      "outputs": []
    },
    {
      "metadata": {
        "id": "ScKpD12jmA5P",
        "colab_type": "text"
      },
      "cell_type": "markdown",
      "source": [
        "###Gradient Descent"
      ]
    },
    {
      "metadata": {
        "id": "ZfhIe58KAp_p",
        "colab_type": "text"
      },
      "cell_type": "markdown",
      "source": [
        "![linear regression model](https://www.cs.toronto.edu/~frossard/post/linear_regression/sgd.gif)"
      ]
    },
    {
      "metadata": {
        "scrolled": false,
        "id": "yvTt8km4mA5Q",
        "colab_type": "code",
        "colab": {}
      },
      "cell_type": "code",
      "source": [
        "w = np.random.randn(2)\n",
        "alpha = 0.5\n",
        "tolerance = 1e-5\n",
        "\n",
        "# Perform Gradient Descent\n",
        "iterations = 1\n",
        "while True:\n",
        "    gradient = get_gradient(w, X_train, Y_train) \n",
        "    cost = cost_function(w, X_train, Y_train) \n",
        "    new_w = w - alpha * gradient\n",
        "    \n",
        "    # Stopping Condition\n",
        "    if np.sum(abs(new_w - w)) < tolerance:\n",
        "        print \"Converged at ({},{}) with cost = {}\".format(new_w[0], new_w[1],cost)\n",
        "        break\n",
        "    \n",
        "    # Print error every 50 iterations\n",
        "    if iterations % 100 == 0:\n",
        "        print \"Iteration: %d - Error: %.4f\" %(iterations, cost)\n",
        "    \n",
        "    iterations += 1\n",
        "    w = new_w\n",
        "\n",
        "print \"w =\",w\n",
        "print \"Test Cost =\", cost_function(w, X_test, Y_test)"
      ],
      "execution_count": 0,
      "outputs": []
    },
    {
      "metadata": {
        "id": "NUdd5cwkBqhP",
        "colab_type": "text"
      },
      "cell_type": "markdown",
      "source": [
        "![model](https://www.cs.toronto.edu/~frossard/post/linear_regression/lreg.gif)"
      ]
    },
    {
      "metadata": {
        "id": "auCRpWw6mA5U",
        "colab_type": "text"
      },
      "cell_type": "markdown",
      "source": [
        "### Plot of data and model"
      ]
    },
    {
      "metadata": {
        "id": "He0FNcyYmA5V",
        "colab_type": "code",
        "colab": {}
      },
      "cell_type": "code",
      "source": [
        "plt.plot(X[:,1], X.dot(w), c='g', label='Model')\n",
        "plt.scatter(X_train[:,1], Y_train, c='b', label='Train Set')\n",
        "plt.scatter(X_test[:,1], Y_test, c='r', label='Test Set')\n",
        "plt.grid()\n",
        "plt.legend(loc='best')\n",
        "plt.xlabel('X')\n",
        "plt.ylabel('Y')\n",
        "plt.show()"
      ],
      "execution_count": 0,
      "outputs": []
    },
    {
      "metadata": {
        "id": "F6XQ3Q-AmA5Y",
        "colab_type": "text"
      },
      "cell_type": "markdown",
      "source": [
        "### Plot of Cost Function"
      ]
    },
    {
      "metadata": {
        "id": "QRtjyBZNmA5Z",
        "colab_type": "code",
        "colab": {}
      },
      "cell_type": "code",
      "source": [
        "w1 = np.linspace(-w[1]*3, w[1]*3, 300)\n",
        "w0 = np.linspace(-w[0]*3, w[0]*3, 300)\n",
        "J = np.zeros(shape=(w1.size, w0.size))\n",
        "\n",
        "for i, w1_value in enumerate(w1):\n",
        "    for j, w0_value in enumerate(w0):\n",
        "        w_value = [w0_value, w1_value]\n",
        "        J[i, j] = cost_function(w_value, X_train, Y_train)\n",
        "\n",
        "plt.scatter(w[0], w[1], marker='*', color='r', s=40, label='Solution Found')\n",
        "CS = plt.contour(w0, w1, J, np.logspace(-10,10,50), label='Cost Function')\n",
        "plt.clabel(CS, inline=1, fontsize=10)\n",
        "plt.title(\"Contour Plot of Cost Function\")\n",
        "plt.xlabel(\"w0\")\n",
        "plt.ylabel(\"w1\")\n",
        "plt.legend(loc='best')\n",
        "plt.show()"
      ],
      "execution_count": 0,
      "outputs": []
    }
  ]
}
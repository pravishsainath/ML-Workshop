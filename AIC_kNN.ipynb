{
  "nbformat": 4,
  "nbformat_minor": 0,
  "metadata": {
    "colab": {
      "name": "AIC_kNN.ipynb",
      "version": "0.3.2",
      "provenance": [],
      "collapsed_sections": []
    },
    "kernelspec": {
      "name": "python3",
      "display_name": "Python 3"
    }
  },
  "cells": [
    {
      "metadata": {
        "id": "9O42zfX8_eHg",
        "colab_type": "text"
      },
      "cell_type": "markdown",
      "source": [
        "# <div align=\"center\">  Artificial Intelligence Concordia Workshop <br /> </div>\n",
        "## <div align=\"center\"> k Nearest Neighbors</div>\n",
        "\n",
        "<div align=\"center\">\n",
        "  <img src=\"https://github.com/olibel270/Workshop1JupyterNote/blob/master/images/AICLogo.jpg?raw=1\" style=\"width: 300px\" /></div>\n",
        "\n",
        "---------------------------------------------------------------------\n",
        "\n",
        "<div align=\"right\">\n",
        "  Follow us on:<br />\n",
        "[ Facebook](https://www.facebook.com/AISConU/)<br />\n",
        "[Our Website](https://www.aisconcordia.com)<br />\n",
        "  </div>\n",
        " \n"
      ]
    },
    {
      "metadata": {
        "id": "pZHpXsHyMpzN",
        "colab_type": "code",
        "colab": {}
      },
      "cell_type": "code",
      "source": [
        "import pandas as pd\n",
        "import numpy as np\n",
        "import math\n",
        "import operator"
      ],
      "execution_count": 0,
      "outputs": []
    },
    {
      "metadata": {
        "id": "p8Vmy-XMMqoj",
        "colab_type": "code",
        "colab": {}
      },
      "cell_type": "code",
      "source": [
        "data = pd.read_csv(\"iris.csv\")"
      ],
      "execution_count": 0,
      "outputs": []
    },
    {
      "metadata": {
        "id": "1xm0SHJrMuF2",
        "colab_type": "code",
        "colab": {}
      },
      "cell_type": "code",
      "source": [
        "# Defining a function which calculates euclidean distance between two data points\n",
        "def distance(data1, data2, length):\n",
        "    distance = 0\n",
        "    for i in range(length):\n",
        "        distance += np.square(data1[i] - data2[i])\n",
        "    return np.sqrt(distance)"
      ],
      "execution_count": 0,
      "outputs": []
    },
    {
      "metadata": {
        "id": "qwmYS-QmM_xV",
        "colab_type": "code",
        "colab": {}
      },
      "cell_type": "code",
      "source": [
        "def knn(training_set, test_instance, k):\n",
        " \n",
        "    distances = {}\n",
        "    sort = {}\n",
        " \n",
        "    length = test_instance.shape[1]\n",
        "    \n",
        "    # Calculating euclidean distance between each row of training data and test data\n",
        "    for x in range(len(training_set)):\n",
        "        \n",
        "    \n",
        "        dist = distance(test_instance, training_set.iloc[x], length)\n",
        "\n",
        "        distances[x] = dist[0]\n",
        "    \n",
        " \n",
        "    \n",
        "    # Sorting them on the basis of distance\n",
        "    sorted_distance = sorted(distances.items(), key=operator.itemgetter(1))\n",
        "    \n",
        " \n",
        "    neighbors = []\n",
        "    \n",
        "    \n",
        "    # Extracting top k neighbors\n",
        "    for x in range(k):\n",
        "        neighbors.append(sorted_distance[x][0])\n",
        "    class_votes = {}\n",
        "    \n",
        "    # Calculating the most freq class in the neighbors\n",
        "    for x in range(len(neighbors)):\n",
        "        response = training_set.iloc[neighbors[x]][-1]\n",
        " \n",
        "        if response in class_votes:\n",
        "            class_votes[response] += 1\n",
        "        else:\n",
        "            class_votes[response] = 1\n",
        "    \n",
        "\n",
        "    \n",
        "    sorted_votes = sorted(class_votes.items(), key=operator.itemgetter(1), reverse=True)\n",
        "    return(sorted_votes[0][0], neighbors)\n",
        "    "
      ],
      "execution_count": 0,
      "outputs": []
    },
    {
      "metadata": {
        "id": "0gAU3oO_NC2K",
        "colab_type": "code",
        "colab": {}
      },
      "cell_type": "code",
      "source": [
        "test_set = [[7.2, 3.6, 5.1, 2.5]]\n",
        "test = pd.DataFrame(test_set)"
      ],
      "execution_count": 0,
      "outputs": []
    },
    {
      "metadata": {
        "id": "dGs8A_TyNFDQ",
        "colab_type": "code",
        "colab": {}
      },
      "cell_type": "code",
      "source": [
        "# Setting the number of neighbors (hyperparameter)\n",
        "k = 1\n",
        "\n",
        "# Running KNN model\n",
        "result,neighbors = knn(data, test, k)\n",
        "\n",
        "# Predicted class\n",
        "print(result)"
      ],
      "execution_count": 0,
      "outputs": []
    },
    {
      "metadata": {
        "id": "L5G2tAbVNIbC",
        "colab_type": "code",
        "colab": {}
      },
      "cell_type": "code",
      "source": [
        "print(neighbors)"
      ],
      "execution_count": 0,
      "outputs": []
    },
    {
      "metadata": {
        "id": "JdF-4O-bV2Lx",
        "colab_type": "text"
      },
      "cell_type": "markdown",
      "source": [
        "## SK Learn Implementation"
      ]
    },
    {
      "metadata": {
        "id": "J89TqQ-oNL0-",
        "colab_type": "code",
        "colab": {}
      },
      "cell_type": "code",
      "source": [
        "from sklearn.neighbors import KNeighborsClassifier"
      ],
      "execution_count": 0,
      "outputs": []
    },
    {
      "metadata": {
        "id": "YlOgbV3RNUpL",
        "colab_type": "code",
        "colab": {}
      },
      "cell_type": "code",
      "source": [
        "neigh = KNeighborsClassifier(n_neighbors=3)\n",
        "neigh.fit(data.iloc[:,0:4], data['species'])"
      ],
      "execution_count": 0,
      "outputs": []
    },
    {
      "metadata": {
        "id": "7_ivzrB3NYIZ",
        "colab_type": "code",
        "colab": {}
      },
      "cell_type": "code",
      "source": [
        "print(neigh.predict(test))"
      ],
      "execution_count": 0,
      "outputs": []
    }
  ]
}